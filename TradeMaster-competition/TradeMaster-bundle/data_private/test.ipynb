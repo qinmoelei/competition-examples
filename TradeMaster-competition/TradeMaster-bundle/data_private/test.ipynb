{
 "cells": [
  {
   "cell_type": "code",
   "execution_count": 22,
   "metadata": {},
   "outputs": [],
   "source": [
    "import pandas as pd\n",
    "import numpy as np\n",
    "\n",
    "df_1 = pd.read_csv(\n",
    "    \"/mnt/d/Competition/competition-examples/TradeMaster-competition/TradeMaster-bundle/data_public/test_input/test_input_1.csv\",\n",
    "    index_col=0)\n",
    "df_1_next = pd.read_csv(\n",
    "    \"/mnt/d/Competition/competition-examples/TradeMaster-competition/TradeMaster-bundle/data_private/next_test_input_1.csv\",\n",
    "    index_col=0)"
   ]
  },
  {
   "cell_type": "code",
   "execution_count": 23,
   "metadata": {},
   "outputs": [
    {
     "data": {
      "text/plain": [
       "Int64Index([0, 30, 60, 90, 120, 150, 180, 210, 240], dtype='int64')"
      ]
     },
     "execution_count": 23,
     "metadata": {},
     "output_type": "execute_result"
    }
   ],
   "source": [
    "df_1.index.unique()"
   ]
  },
  {
   "cell_type": "code",
   "execution_count": 24,
   "metadata": {},
   "outputs": [
    {
     "data": {
      "text/plain": [
       "Int64Index([1, 31, 61, 91, 121, 151, 181, 211, 241], dtype='int64')"
      ]
     },
     "execution_count": 24,
     "metadata": {},
     "output_type": "execute_result"
    }
   ],
   "source": [
    "df_1_next.index.unique()"
   ]
  },
  {
   "cell_type": "code",
   "execution_count": 25,
   "metadata": {},
   "outputs": [],
   "source": [
    "return_rate_list_all=[]\n",
    "for index in df_1.index.unique():\n",
    "    single_date_information=df_1[df_1.index==index]\n",
    "    single_date_information_next=df_1_next[df_1_next.index==index+1]\n",
    "    close_today=single_date_information[\"close\"]\n",
    "    close_nextday=single_date_information_next[\"close\"]\n",
    "    return_rate_list=(close_nextday.values/close_today.values-1)\n",
    "    return_rate_list_all.append(return_rate_list)\n",
    "return_rate_list_all_1=np.array(return_rate_list_all)\n",
    "df_2 = pd.read_csv(\n",
    "    \"/mnt/d/Competition/competition-examples/TradeMaster-competition/TradeMaster-bundle/data_public/test_input/test_input_2.csv\",\n",
    "    index_col=0)\n",
    "df_2_next = pd.read_csv(\n",
    "    \"/mnt/d/Competition/competition-examples/TradeMaster-competition/TradeMaster-bundle/data_private/next_test_input_2.csv\",\n",
    "    index_col=0)\n",
    "return_rate_list_all=[]\n",
    "for index in df_2.index.unique():\n",
    "    single_date_information=df_2[df_2.index==index]\n",
    "    single_date_information_next=df_2_next[df_2_next.index==index+1]\n",
    "    close_today=single_date_information[\"close\"]\n",
    "    close_nextday=single_date_information_next[\"close\"]\n",
    "    return_rate_list=(close_nextday.values/close_today.values-1)\n",
    "    return_rate_list_all.append(return_rate_list)\n",
    "return_rate_list_all_2=np.array(return_rate_list_all)\n",
    "np.savetxt('return_rate_1.txt',return_rate_list_all_1)\n",
    "np.savetxt('return_rate_2.txt',return_rate_list_all_2)"
   ]
  },
  {
   "cell_type": "code",
   "execution_count": 26,
   "metadata": {},
   "outputs": [
    {
     "ename": "AttributeError",
     "evalue": "'list' object has no attribute 'shape'",
     "output_type": "error",
     "traceback": [
      "\u001b[0;31m---------------------------------------------------------------------------\u001b[0m",
      "\u001b[0;31mAttributeError\u001b[0m                            Traceback (most recent call last)",
      "\u001b[0;32m/tmp/ipykernel_208/1700854475.py\u001b[0m in \u001b[0;36m<module>\u001b[0;34m\u001b[0m\n\u001b[1;32m     26\u001b[0m         \u001b[0;34m-\u001b[0m\u001b[0;36m0.02661134\u001b[0m\u001b[0;34m,\u001b[0m  \u001b[0;36m0.00634075\u001b[0m\u001b[0;34m,\u001b[0m  \u001b[0;36m0.00934581\u001b[0m\u001b[0;34m,\u001b[0m \u001b[0;34m-\u001b[0m\u001b[0;36m0.0109707\u001b[0m \u001b[0;34m,\u001b[0m  \u001b[0;36m0.0191326\u001b[0m \u001b[0;34m,\u001b[0m\u001b[0;34m\u001b[0m\u001b[0;34m\u001b[0m\u001b[0m\n\u001b[1;32m     27\u001b[0m         -0.02030357, -0.00071507,  0.02290634,  0.00315776,  0.0109267 ]]\n\u001b[0;32m---> 28\u001b[0;31m \u001b[0ma\u001b[0m\u001b[0;34m.\u001b[0m\u001b[0mshape\u001b[0m\u001b[0;34m\u001b[0m\u001b[0;34m\u001b[0m\u001b[0m\n\u001b[0m",
      "\u001b[0;31mAttributeError\u001b[0m: 'list' object has no attribute 'shape'"
     ]
    }
   ],
   "source": [
    "a=[[ 0.01236373,  0.00485304,  0.00533715,  0.04395227,  0.0081801 ,\n",
    "         0.00549229,  0.00045497,  0.02703342,  0.00427741,  0.02237733,\n",
    "         0.00807053,  0.00245256,  0.01775051,  0.01892495,  0.01175717],\n",
    "       [-0.00863642, -0.01307246, -0.00054443, -0.03266522, -0.01176473,\n",
    "        -0.0026246 ,  0.00194595, -0.00959131, -0.01845099, -0.00908101,\n",
    "         0.00758214,  0.00802383,  0.00633485, -0.00388032,  0.00048293],\n",
    "       [ 0.00695864,  0.00144689,  0.02212956, -0.00690953,  0.00375215,\n",
    "         0.03233118,  0.00522144,  0.00916117,  0.02411661,  0.00195723,\n",
    "         0.00819001, -0.00124386, -0.00022517,  0.0085938 , -0.00924858],\n",
    "       [ 0.01984473, -0.00273734,  0.01992466,  0.02618578,  0.00899733,\n",
    "         0.02737658,  0.00781101,  0.02615299, -0.02601772,  0.0277584 ,\n",
    "        -0.00550061,  0.01645211,  0.00353744,  0.02481022,  0.00152974],\n",
    "       [ 0.012546  ,  0.00065932, -0.02755974, -0.03389966, -0.00018489,\n",
    "         0.01116307, -0.0018847 , -0.03084814, -0.00998037, -0.0001627 ,\n",
    "         0.00207249, -0.00891475, -0.01055575,  0.02808084, -0.00115707],\n",
    "       [-0.00335403,  0.0003072 , -0.00755354,  0.0151117 ,  0.02479778,\n",
    "        -0.02378473,  0.00252388,  0.01825438,  0.00198057,  0.02023106,\n",
    "         0.00827352,  0.01599268,  0.00092035, -0.00203516,  0.00034539],\n",
    "       [ 0.01687244, -0.00798663,  0.02584676,  0.04062156,  0.00795412,\n",
    "         0.00465175,  0.00470507,  0.02941488,  0.0144885 ,  0.02562262,\n",
    "         0.00511636,  0.0098651 ,  0.01248402,  0.01191604, -0.00364679],\n",
    "       [ 0.0097987 ,  0.01806222, -0.0032338 ,  0.00286695, -0.01723635,\n",
    "        -0.00019804,  0.0005207 , -0.00720372,  0.00147206, -0.01403801,\n",
    "         0.00457402,  0.00727881,  0.00752896,  0.01062974, -0.00320067],\n",
    "       [-0.03926385,  0.01518815,  0.00468438, -0.02374251,  0.01787211,\n",
    "        -0.02661134,  0.00634075,  0.00934581, -0.0109707 ,  0.0191326 ,\n",
    "        -0.02030357, -0.00071507,  0.02290634,  0.00315776,  0.0109267 ]]\n",
    "a.shape"
   ]
  },
  {
   "cell_type": "code",
   "execution_count": null,
   "metadata": {},
   "outputs": [],
   "source": []
  },
  {
   "cell_type": "code",
   "execution_count": 17,
   "metadata": {},
   "outputs": [
    {
     "data": {
      "text/plain": [
       "array([[ 0.00542711,  0.01132428,  0.0376586 ,  0.03127447, -0.00287739,\n",
       "         0.01698412, -0.00528289,  0.0262787 ,  0.00478297, -0.02262382,\n",
       "        -0.00870857,  0.00383548,  0.00490687,  0.00712053,  0.01547096],\n",
       "       [-0.02445656, -0.007754  ,  0.02398561,  0.02428968, -0.00421649,\n",
       "        -0.03499321, -0.00856765,  0.01122602, -0.00866251,  0.01054569,\n",
       "        -0.01125676,  0.00208148,  0.01687028, -0.02188113, -0.01760787],\n",
       "       [ 0.01870788,  0.02207359,  0.00752951, -0.00522914, -0.00025797,\n",
       "         0.02184017,  0.005256  , -0.0081519 , -0.00816182,  0.00954221,\n",
       "         0.00849947,  0.00200537, -0.00037703,  0.01293027,  0.00293898],\n",
       "       [-0.01237682, -0.01358208,  0.00731494,  0.03865436,  0.01501827,\n",
       "        -0.01676241,  0.00018897, -0.01066078,  0.01456334,  0.01080566,\n",
       "         0.00453787,  0.03121238,  0.0030688 ,  0.01423052, -0.00153788],\n",
       "       [-0.00420371, -0.003385  ,  0.00965455, -0.00542595,  0.00533531,\n",
       "        -0.00877334, -0.00949018,  0.00201786,  0.04145962,  0.02350976,\n",
       "        -0.00108667,  0.00303115, -0.00423976,  0.01321661, -0.0015906 ],\n",
       "       [ 0.01025713,  0.00943945,  0.00438183,  0.03164525,  0.02049379,\n",
       "         0.01713967,  0.00549639,  0.02576883,  0.01450439,  0.01409558,\n",
       "        -0.00455595,  0.00619237,  0.00366611,  0.02345705, -0.01019841],\n",
       "       [ 0.01415841,  0.00198637,  0.01216258,  0.00281516, -0.00326208,\n",
       "         0.00335968,  0.00848237,  0.01088617,  0.00662974,  0.03116398,\n",
       "         0.00921987,  0.00704913, -0.00666149,  0.00897699,  0.00226103],\n",
       "       [ 0.00666667, -0.00969139, -0.01206797, -0.03127544, -0.01097691,\n",
       "         0.00523751, -0.00471452,  0.00393767,  0.00252483, -0.00424891,\n",
       "         0.05726528, -0.00494451, -0.00344918,  0.00576313, -0.00519818],\n",
       "       [-0.00657826, -0.00496487,  0.00201429, -0.00466462, -0.00602904,\n",
       "         0.00310367, -0.00531582, -0.00440862,  0.00684443, -0.00176081,\n",
       "        -0.00219062, -0.00202379,  0.00419946, -0.00173645,  0.00443016]])"
      ]
     },
     "execution_count": 17,
     "metadata": {},
     "output_type": "execute_result"
    }
   ],
   "source": [
    "return_rate_list_all_2"
   ]
  },
  {
   "cell_type": "code",
   "execution_count": 7,
   "metadata": {},
   "outputs": [
    {
     "data": {
      "text/plain": [
       "(9, 15)"
      ]
     },
     "execution_count": 7,
     "metadata": {},
     "output_type": "execute_result"
    }
   ],
   "source": [
    "return_rate_list_all.shape"
   ]
  },
  {
   "cell_type": "code",
   "execution_count": 13,
   "metadata": {},
   "outputs": [
    {
     "name": "stdout",
     "output_type": "stream",
     "text": [
      "(15,)\n",
      "(15,)\n",
      "(15,)\n",
      "(15,)\n",
      "(15,)\n",
      "(15,)\n",
      "(15,)\n",
      "(15,)\n",
      "(15,)\n",
      "0.010467098372421255\n",
      "-0.0034178008983987186\n",
      "0.004715274587431175\n",
      "0.010501478223200574\n",
      "0.005478050219026238\n",
      "-0.003054846501344582\n",
      "0.009264624808666555\n",
      "0.002247722313702548\n",
      "-0.006579155371979866\n"
     ]
    }
   ],
   "source": [
    "#此处动作需要一个(9,15)的np.array\n",
    "from turtle import shape\n",
    "action_score_list=np.random.randn(9,15)\n",
    "action_list=[]\n",
    "for action_score in action_score_list:\n",
    "    print(action_score.shape)\n",
    "    action=np.exp(action_score)/np.sum(np.exp(action_score))\n",
    "    action_list.append(action)\n",
    "for action,return_rate in zip(action_list,return_rate_list_all):\n",
    "    daily_return_rate=np.dot(action,return_rate)\n",
    "    print(daily_return_rate)\n",
    "    "
   ]
  },
  {
   "cell_type": "code",
   "execution_count": 27,
   "metadata": {},
   "outputs": [
    {
     "name": "stdout",
     "output_type": "stream",
     "text": [
      "0.42619420612054026\n",
      "(15,)\n",
      "2.1394484583279554\n",
      "(15,)\n",
      "-1.0819072112948198\n",
      "(15,)\n",
      "0.19675016534635126\n",
      "(15,)\n",
      "-0.6501479405579005\n",
      "(15,)\n",
      "3.134402494759201\n",
      "(15,)\n",
      "1.9962389378406062\n",
      "(15,)\n",
      "0.6907831638091584\n",
      "(15,)\n",
      "2.7558843899753813\n",
      "(15,)\n"
     ]
    }
   ],
   "source": [
    "action_score_list=np.random.randn(9,15)\n",
    "for action_score in action_score_list:\n",
    "    print(np.sum(action_score))\n",
    "    print(action_score.shape)\n"
   ]
  },
  {
   "cell_type": "code",
   "execution_count": 29,
   "metadata": {},
   "outputs": [],
   "source": [
    "action_score_list=np.random.randn(9,15)\n",
    "np.save(\"/mnt/d/Competition/competition-examples/TradeMaster-competition/TradeMaster-bundle/result_submission/action2\",action_score_list)"
   ]
  },
  {
   "cell_type": "code",
   "execution_count": null,
   "metadata": {},
   "outputs": [],
   "source": []
  },
  {
   "cell_type": "code",
   "execution_count": null,
   "metadata": {},
   "outputs": [],
   "source": []
  },
  {
   "cell_type": "code",
   "execution_count": null,
   "metadata": {},
   "outputs": [],
   "source": []
  },
  {
   "cell_type": "code",
   "execution_count": null,
   "metadata": {},
   "outputs": [],
   "source": []
  },
  {
   "cell_type": "code",
   "execution_count": null,
   "metadata": {},
   "outputs": [],
   "source": []
  },
  {
   "cell_type": "code",
   "execution_count": null,
   "metadata": {},
   "outputs": [],
   "source": []
  },
  {
   "cell_type": "code",
   "execution_count": null,
   "metadata": {},
   "outputs": [],
   "source": []
  },
  {
   "cell_type": "code",
   "execution_count": null,
   "metadata": {},
   "outputs": [],
   "source": []
  }
 ],
 "metadata": {
  "kernelspec": {
   "display_name": "Python 3.7.11 ('FinRL')",
   "language": "python",
   "name": "python3"
  },
  "language_info": {
   "codemirror_mode": {
    "name": "ipython",
    "version": 3
   },
   "file_extension": ".py",
   "mimetype": "text/x-python",
   "name": "python",
   "nbconvert_exporter": "python",
   "pygments_lexer": "ipython3",
   "version": "3.7.11"
  },
  "orig_nbformat": 4,
  "vscode": {
   "interpreter": {
    "hash": "22c825f2529c2fe7fb14eee6765a5ae5c9d158cde667eea0a2e6331247dddcad"
   }
  }
 },
 "nbformat": 4,
 "nbformat_minor": 2
}
