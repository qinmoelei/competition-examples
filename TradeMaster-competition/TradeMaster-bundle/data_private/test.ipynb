{
 "cells": [
  {
   "cell_type": "code",
   "execution_count": 1,
   "metadata": {},
   "outputs": [],
   "source": [
    "import pandas as pd\n",
    "import numpy as np\n",
    "\n",
    "df_1 = pd.read_csv(\n",
    "    \"/home/sunshuo/qml/Competition/competition-examples/TradeMaster-competition/TradeMaster-bundle/data_public/test_input/test_input_1.csv\",\n",
    "    index_col=0)\n",
    "df_1_next = pd.read_csv(\n",
    "    \"/home/sunshuo/qml/Competition/competition-examples/TradeMaster-competition/TradeMaster-bundle/data_private/next_test_input_1.csv\",\n",
    "    index_col=0)"
   ]
  },
  {
   "cell_type": "code",
   "execution_count": 5,
   "metadata": {},
   "outputs": [
    {
     "data": {
      "text/plain": [
       "Int64Index([0, 30, 60, 90, 120, 150, 180, 210, 240], dtype='int64')"
      ]
     },
     "execution_count": 5,
     "metadata": {},
     "output_type": "execute_result"
    }
   ],
   "source": [
    "df_1.index.unique()"
   ]
  },
  {
   "cell_type": "code",
   "execution_count": 6,
   "metadata": {},
   "outputs": [
    {
     "data": {
      "text/plain": [
       "Int64Index([1, 31, 61, 91, 121, 151, 181, 211, 241], dtype='int64')"
      ]
     },
     "execution_count": 6,
     "metadata": {},
     "output_type": "execute_result"
    }
   ],
   "source": [
    "df_1_next.index.unique()"
   ]
  },
  {
   "cell_type": "code",
   "execution_count": 13,
   "metadata": {},
   "outputs": [
    {
     "data": {
      "text/plain": [
       "[array([0.01236373, 0.00485304, 0.00533715, 0.04395227, 0.0081801 ,\n",
       "        0.00549229, 0.00045497, 0.02703342, 0.00427741, 0.02237733,\n",
       "        0.00807053, 0.00245256, 0.01775051, 0.01892495, 0.01175717]),\n",
       " array([-0.00863642, -0.01307246, -0.00054443, -0.03266522, -0.01176473,\n",
       "        -0.0026246 ,  0.00194595, -0.00959131, -0.01845099, -0.00908101,\n",
       "         0.00758214,  0.00802383,  0.00633485, -0.00388032,  0.00048293]),\n",
       " array([ 0.00695864,  0.00144689,  0.02212956, -0.00690953,  0.00375215,\n",
       "         0.03233118,  0.00522144,  0.00916117,  0.02411661,  0.00195723,\n",
       "         0.00819001, -0.00124386, -0.00022517,  0.0085938 , -0.00924858]),\n",
       " array([ 0.01984473, -0.00273734,  0.01992466,  0.02618578,  0.00899733,\n",
       "         0.02737658,  0.00781101,  0.02615299, -0.02601772,  0.0277584 ,\n",
       "        -0.00550061,  0.01645211,  0.00353744,  0.02481022,  0.00152974]),\n",
       " array([ 0.012546  ,  0.00065932, -0.02755974, -0.03389966, -0.00018489,\n",
       "         0.01116307, -0.0018847 , -0.03084814, -0.00998037, -0.0001627 ,\n",
       "         0.00207249, -0.00891475, -0.01055575,  0.02808084, -0.00115707]),\n",
       " array([-0.00335403,  0.0003072 , -0.00755354,  0.0151117 ,  0.02479778,\n",
       "        -0.02378473,  0.00252388,  0.01825438,  0.00198057,  0.02023106,\n",
       "         0.00827352,  0.01599268,  0.00092035, -0.00203516,  0.00034539]),\n",
       " array([ 0.01687244, -0.00798663,  0.02584676,  0.04062156,  0.00795412,\n",
       "         0.00465175,  0.00470507,  0.02941488,  0.0144885 ,  0.02562262,\n",
       "         0.00511636,  0.0098651 ,  0.01248402,  0.01191604, -0.00364679]),\n",
       " array([ 0.0097987 ,  0.01806222, -0.0032338 ,  0.00286695, -0.01723635,\n",
       "        -0.00019804,  0.0005207 , -0.00720372,  0.00147206, -0.01403801,\n",
       "         0.00457402,  0.00727881,  0.00752896,  0.01062974, -0.00320067]),\n",
       " array([-0.03926385,  0.01518815,  0.00468438, -0.02374251,  0.01787211,\n",
       "        -0.02661134,  0.00634075,  0.00934581, -0.0109707 ,  0.0191326 ,\n",
       "        -0.02030357, -0.00071507,  0.02290634,  0.00315776,  0.0109267 ])]"
      ]
     },
     "execution_count": 13,
     "metadata": {},
     "output_type": "execute_result"
    }
   ],
   "source": [
    "from fileinput import close\n",
    "return_rate_list_all=[]\n",
    "\n",
    "for index in df_1.index.unique():\n",
    "    single_date_information=df_1[df_1.index==index]\n",
    "    single_date_information_next=df_1_next[df_1_next.index==index+1]\n",
    "    close_today=single_date_information[\"close\"]\n",
    "    close_nextday=single_date_information_next[\"close\"]\n",
    "    return_rate_list=(close_nextday.values/close_today.values-1)\n",
    "    return_rate_list_all.append(return_rate_list)\n",
    "return_rate_list_all"
   ]
  },
  {
   "cell_type": "code",
   "execution_count": null,
   "metadata": {},
   "outputs": [],
   "source": []
  },
  {
   "cell_type": "code",
   "execution_count": null,
   "metadata": {},
   "outputs": [],
   "source": []
  },
  {
   "cell_type": "code",
   "execution_count": null,
   "metadata": {},
   "outputs": [],
   "source": []
  },
  {
   "cell_type": "code",
   "execution_count": null,
   "metadata": {},
   "outputs": [],
   "source": []
  },
  {
   "cell_type": "code",
   "execution_count": null,
   "metadata": {},
   "outputs": [],
   "source": []
  },
  {
   "cell_type": "code",
   "execution_count": null,
   "metadata": {},
   "outputs": [],
   "source": []
  },
  {
   "cell_type": "code",
   "execution_count": null,
   "metadata": {},
   "outputs": [],
   "source": []
  }
 ],
 "metadata": {
  "kernelspec": {
   "display_name": "Python 3.7.13 ('TradeMaster')",
   "language": "python",
   "name": "python3"
  },
  "language_info": {
   "codemirror_mode": {
    "name": "ipython",
    "version": 3
   },
   "file_extension": ".py",
   "mimetype": "text/x-python",
   "name": "python",
   "nbconvert_exporter": "python",
   "pygments_lexer": "ipython3",
   "version": "3.7.13"
  },
  "orig_nbformat": 4,
  "vscode": {
   "interpreter": {
    "hash": "a1f97403911abd3f02553c8f2b0c54537fddc7efadd9f5d3e31784db6e40c347"
   }
  }
 },
 "nbformat": 4,
 "nbformat_minor": 2
}
